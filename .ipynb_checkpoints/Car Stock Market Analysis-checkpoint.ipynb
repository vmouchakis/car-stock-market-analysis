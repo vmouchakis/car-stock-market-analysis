{
 "cells": [
  {
   "cell_type": "code",
   "execution_count": 12,
   "id": "shared-moderator",
   "metadata": {},
   "outputs": [],
   "source": [
    "# Import libraries\n",
    "\n",
    "import numpy as np\n",
    "import pandas as pd\n",
    "import matplotlib.pyplot as plt\n",
    "%matplotlib inline"
   ]
  },
  {
   "cell_type": "code",
   "execution_count": 6,
   "id": "roman-miller",
   "metadata": {},
   "outputs": [],
   "source": [
    "# Getting historical stock information for Tesla from Jan 1, 2012 to Jan 1, 2017."
   ]
  },
  {
   "cell_type": "code",
   "execution_count": 13,
   "id": "mounted-minneapolis",
   "metadata": {},
   "outputs": [],
   "source": [
    "import pandas_datareader\n",
    "import datetime\n",
    "import pandas_datareader.data as data"
   ]
  },
  {
   "cell_type": "code",
   "execution_count": 14,
   "id": "danish-antarctica",
   "metadata": {},
   "outputs": [],
   "source": [
    "start = datetime.datetime(2012, 1, 1)\n",
    "end = datetime.datetime(2017, 1, 1)"
   ]
  },
  {
   "cell_type": "code",
   "execution_count": 16,
   "id": "incorrect-replication",
   "metadata": {},
   "outputs": [],
   "source": [
    "tesla = data.DataReader(\"TSLA\", \"yahoo\", start, end)"
   ]
  },
  {
   "cell_type": "code",
   "execution_count": null,
   "id": "surprising-acrylic",
   "metadata": {},
   "outputs": [],
   "source": []
  }
 ],
 "metadata": {
  "kernelspec": {
   "display_name": "Python 3",
   "language": "python",
   "name": "python3"
  },
  "language_info": {
   "codemirror_mode": {
    "name": "ipython",
    "version": 3
   },
   "file_extension": ".py",
   "mimetype": "text/x-python",
   "name": "python",
   "nbconvert_exporter": "python",
   "pygments_lexer": "ipython3",
   "version": "3.9.1"
  }
 },
 "nbformat": 4,
 "nbformat_minor": 5
}
